{
 "cells": [
  {
   "cell_type": "code",
   "execution_count": 61,
   "metadata": {},
   "outputs": [
    {
     "ename": "ModuleNotFoundError",
     "evalue": "No module named 'cvxopt'",
     "output_type": "error",
     "traceback": [
      "\u001b[1;31m---------------------------------------------------------------------------\u001b[0m",
      "\u001b[1;31mModuleNotFoundError\u001b[0m                       Traceback (most recent call last)",
      "\u001b[1;32m<ipython-input-61-2e339bb111c7>\u001b[0m in \u001b[0;36m<module>\u001b[1;34m()\u001b[0m\n\u001b[0;32m      2\u001b[0m \u001b[1;32mimport\u001b[0m \u001b[0mnumpy\u001b[0m \u001b[1;32mas\u001b[0m \u001b[0mnp\u001b[0m\u001b[1;33m\u001b[0m\u001b[0m\n\u001b[0;32m      3\u001b[0m \u001b[1;32mfrom\u001b[0m \u001b[0msklearn\u001b[0m\u001b[1;33m.\u001b[0m\u001b[0mmodel_selection\u001b[0m \u001b[1;32mimport\u001b[0m \u001b[0mtrain_test_split\u001b[0m\u001b[1;33m\u001b[0m\u001b[0m\n\u001b[1;32m----> 4\u001b[1;33m \u001b[1;32mimport\u001b[0m \u001b[0mcvxopt\u001b[0m\u001b[1;33m\u001b[0m\u001b[0m\n\u001b[0m\u001b[0;32m      5\u001b[0m \u001b[1;32mfrom\u001b[0m \u001b[0msklearn\u001b[0m\u001b[1;33m.\u001b[0m\u001b[0mmetrics\u001b[0m \u001b[1;32mimport\u001b[0m \u001b[0maccuracy_score\u001b[0m\u001b[1;33m\u001b[0m\u001b[0m\n\u001b[0;32m      6\u001b[0m \u001b[1;33m\u001b[0m\u001b[0m\n",
      "\u001b[1;31mModuleNotFoundError\u001b[0m: No module named 'cvxopt'"
     ]
    }
   ],
   "source": [
    "from sklearn.datasets import load_iris\n",
    "import numpy as np\n",
    "from sklearn.model_selection import train_test_split\n",
    "import cvxopt\n",
    "from sklearn.metrics import accuracy_score\n",
    "\n",
    "iris = load_iris()\n",
    "data_set = iris.data\n",
    "labels = iris.target\n",
    "\n",
    "train_data_set, test_data_set, train_labels, test_labels = train_test_split(\n",
    "    data_set, labels, test_size=0.2, random_state=15)\n",
    "\n",
    "#train_labels[train_labels<1] = -1\n",
    "#test_labels[test_labels<1] = -1\n",
    "\n",
    "#objects_count = len(train_labels)"
   ]
  },
  {
   "cell_type": "code",
   "execution_count": null,
   "metadata": {},
   "outputs": [],
   "source": [
    "len(train_data_set)"
   ]
  },
  {
   "cell_type": "code",
   "execution_count": null,
   "metadata": {},
   "outputs": [],
   "source": [
    "train_data_set[0:3]"
   ]
  },
  {
   "cell_type": "code",
   "execution_count": null,
   "metadata": {},
   "outputs": [],
   "source": [
    "train_labels[0:3]"
   ]
  },
  {
   "cell_type": "code",
   "execution_count": null,
   "metadata": {},
   "outputs": [],
   "source": []
  },
  {
   "cell_type": "markdown",
   "metadata": {},
   "source": [
    "# Exercises\n",
    "\n",
    "In this section we have two exercises:\n",
    "1. Implement the polynomial kernel.\n",
    "2. Implement the multiclass C-SVM."
   ]
  },
  {
   "cell_type": "markdown",
   "metadata": {},
   "source": [
    "## Polynomial kernel\n",
    "\n",
    "You need to extend the ``build_kernel`` function and implement the polynomial kernel if the ``kernel_type`` is set to 'poly'. The equation that needs to be implemented:\n",
    "\\begin{equation}\n",
    "K=(X^{T}*Y)^{d}.\n",
    "\\end{equation}"
   ]
  },
  {
   "cell_type": "code",
   "execution_count": null,
   "metadata": {},
   "outputs": [],
   "source": [
    "def build_kernel(data_set, kernel_type='linear', d_poly_exp = 1):\n",
    "    kernel = np.dot(data_set, data_set.T)\n",
    "    if kernel_type == 'rbf':\n",
    "        sigma = 1.0\n",
    "        objects_count = len(data_set)\n",
    "        b = np.ones((len(data_set), 1))\n",
    "        kernel -= 0.5 * (np.dot((np.diag(kernel)*np.ones((1, objects_count))).T, b.T)\n",
    "                         + np.dot(b, (np.diag(kernel) * np.ones((1, objects_count))).T.T))\n",
    "        kernel = np.exp(kernel / (2. * sigma ** 2))\n",
    "    elif kernel_type == 'poly':\n",
    "        # funkcja z wykładu: polynomial K (x i , x j ) = ( x ik x jk + a)**d\n",
    "        # zakłdam, powyższy wzór jest po prostu wielomianowym jądrem JEDNORODNYM\n",
    "        # funkcja z wykłady jest poprawna, więc z niej skorzystam, ta nie\n",
    "        kernel = np.power(np.dot(data_set, data_set.T), d_poly_exp)\n",
    "        \n",
    "    return kernel"
   ]
  },
  {
   "cell_type": "markdown",
   "metadata": {},
   "source": [
    "## Implement a multiclass C-SVM\n",
    "\n",
    "Use the classification method that we used in notebook 7.3 and IRIS dataset to build a multiclass C-SVM classifier. Most implementation is about a function that will return the proper data set that need to be used for the prediction. You need to implement:\n",
    "- ``choose_set_for_label``\n",
    "- ``get_labels_count``"
   ]
  },
  {
   "cell_type": "code",
   "execution_count": null,
   "metadata": {},
   "outputs": [],
   "source": [
    "# Kernel'e wprowadzmy po to aby dane dało się liniowo rozdzielić hiperpłaszczyzną\n",
    "# W C-SVM chodzi o to, żeby ze zbioru treningowego wybrać odstające obserwacje, które zaburzają klasfikator.\n",
    "# i w tym przypadku nadal minimalizujemy funkcję marginesu ale skorygowaną o C * sum(\"slack variables\")\n",
    "\n",
    "# proper data_set that need's to be used for prediction - aha o to tu się chodzi o to, że trzeba tak podzielić \n",
    "# zbiór train-test na kombinacje klas po dwie\n",
    "# Each 2 combination is a vote for a class that a given is classified to. The object is assigned a label that \n",
    "# gets most votes.\n",
    "\n",
    "# nowa strategia: to oznacza, że wypadało by wytrenować n(n-1)/2 klasyfikatorów, tu 6\n",
    "# potem próbkę testową wpuszczmy w każdy z 6 ciu klasyfikatorów i każdy z nich głosuje do której klasy należy próbka\n",
    "# albo wytrenuje 3 klasyfikatory 1 i reszta i one będą głosować i większość zdecyduje - - to będzie: one vs all"
   ]
  },
  {
   "cell_type": "code",
   "execution_count": null,
   "metadata": {},
   "outputs": [],
   "source": [
    "# wyrzucenie ze zbioru tych odstających\n",
    "def choose_set_for_label(data_set, label,labels): # tu podamy train_data_set\n",
    "    # indexy wektorów rozpinających hiperpłaszczyznę i wartości lambda\n",
    "    # równanie hiperpłaszczyzny: w⋅x+b=0\n",
    "    # w - weight vector - wyliczamy ze wzoru w = sum x_i y_i lambda_i \n",
    "    # działmy najpierw funkcją train na cały data_set, ponieważ chcemy z niego pózniej wykluczyć outliery\n",
    "    # dopiero po tym podzielimy na train i test\n",
    "    labels_local = np.copy(labels)\n",
    "    labels_local[labels!=label] = -1\n",
    "    labels_local[labels==label] = 1\n",
    "    train_data_set, test_data_set, train_labels, test_labels = train_test_split(data_set, labels_local, test_size=0.2, random_state=10)\n",
    "    \n",
    "    return train_data_set, test_data_set, train_labels, test_labels\n",
    "    "
   ]
  },
  {
   "cell_type": "code",
   "execution_count": null,
   "metadata": {},
   "outputs": [],
   "source": [
    "def get_labels_count(labels): # labels insted of dataset, because data was prepared that way earlier in the notebook\n",
    "    labels_count = {}\n",
    "    uniq = np.unique(labels)\n",
    "    for label in uniq:\n",
    "        labels_count[label] = list(labels).count(label)\n",
    "    return labels_count"
   ]
  },
  {
   "cell_type": "code",
   "execution_count": null,
   "metadata": {},
   "outputs": [],
   "source": [
    "# żeby wyznaczyć slack variables, to najpierw trzeba mieć hiperpłaszczyznę\n",
    "# żeby te odległości policzyć\n",
    "# Use the code that we have implemented earlier:"
   ]
  },
  {
   "cell_type": "code",
   "execution_count": null,
   "metadata": {},
   "outputs": [],
   "source": [
    "def train(train_data_set, train_labels, kernel_type='linear', C=10, threshold=1e-5):\n",
    "    kernel = build_kernel(train_data_set, kernel_type=kernel_type)\n",
    "\n",
    "    P = train_labels * train_labels.transpose() * kernel\n",
    "    q = -np.ones((objects_count, 1))\n",
    "    \n",
    "    # W przypadku \"hard-margin\" SVM podając macirz h do cvxopt nie uwzględniamy C, a dla soft marigin już uwzględnimy\n",
    "    # Tu już jest uwzględnioe, więc zakadam, tu już jest robione przez \"dual\"\n",
    "    # No ok, czyli właściwie minimalizowana jest już ta funkcja co powinna być\n",
    "    \n",
    "    # Ta funkcja zwróci nam macirz alf, to mamy zdefiniowaną macierz wektory nośne\n",
    "    # Wektory nośne definiują hiperpłaszczyznę - f (x) = β 0 + sum(lambda_i*K (x i , x j ) )\n",
    "    \n",
    "    G = np.concatenate((np.eye(objects_count), -np.eye(objects_count)))\n",
    "    h = np.concatenate((C * np.ones((objects_count, 1)), np.zeros((objects_count, 1))))\n",
    "\n",
    "    A = train_labels.reshape(1, objects_count)\n",
    "    A = A.astype(float)\n",
    "    b = 0.0\n",
    "\n",
    "    sol = cvxopt.solvers.qp(cvxopt.matrix(P), cvxopt.matrix(q), cvxopt.matrix(G), cvxopt.matrix(h), cvxopt.matrix(A), cvxopt.matrix(b))\n",
    "\n",
    "    lambdas = np.array(sol['x'])\n",
    "\n",
    "    support_vectors_id = np.where(lambdas > threshold)[0]\n",
    "    vector_number = len(support_vectors_id)\n",
    "    support_vectors = train_data_set[support_vectors_id, :]\n",
    "\n",
    "    lambdas = lambdas[support_vectors_id]\n",
    "    targets = train_labels[support_vectors_id]\n",
    "\n",
    "    b = np.sum(targets)\n",
    "    for n in range(vector_number):\n",
    "        b -= np.sum(lambdas * targets * np.reshape(kernel[support_vectors_id[n], support_vectors_id], (vector_number, 1)))\n",
    "    b /= len(lambdas)\n",
    "\n",
    "    return lambdas, support_vectors, support_vectors_id, b, targets, vector_number\n",
    "\n",
    "def build_kernel(data_set, kernel_type='linear'):\n",
    "    kernel = np.dot(data_set, data_set.T)\n",
    "    if kernel_type == 'rbf':\n",
    "        sigma = 1.0\n",
    "        objects_count = len(data_set)\n",
    "        b = np.ones((len(data_set), 1))\n",
    "        kernel -= 0.5 * (np.dot((np.diag(kernel)*np.ones((1, objects_count))).T, b.T)\n",
    "                         + np.dot(b, (np.diag(kernel) * np.ones((1, objects_count))).T.T))\n",
    "        kernel = np.exp(kernel / (2. * sigma ** 2))\n",
    "    return kernel\n",
    "\n",
    "def classify_rbf(test_data_set, train_data_set, lambdas, targets, b, vector_number, support_vectors, support_vectors_id):\n",
    "    kernel = np.dot(test_data_set, support_vectors.T)\n",
    "    sigma = 1.0\n",
    "    #K = np.dot(test_data_set, support_vectors.T)\n",
    "    #kernel = build_kernel(train_data_set, kernel_type='rbf')\n",
    "    c = (1. / sigma * np.sum(test_data_set ** 2, axis=1) * np.ones((1, np.shape(test_data_set)[0]))).T\n",
    "    c = np.dot(c, np.ones((1, np.shape(kernel)[1])))\n",
    "    #aa = np.dot((np.diag(K)*np.ones((1,len(test_data_set)))).T[support_vectors_id], np.ones((1, np.shape(K)[0]))).T\n",
    "    sv = (np.diag(np.dot(train_data_set, train_data_set.T))*np.ones((1,len(train_data_set)))).T[support_vectors_id]\n",
    "    aa = np.dot(sv,np.ones((1,np.shape(kernel)[0]))).T\n",
    "    \n",
    "    kernel = kernel - 0.5 * c - 0.5 * aa\n",
    "    kernel = np.exp(kernel / (2. * sigma ** 2))\n",
    "\n",
    "    y = np.zeros((np.shape(test_data_set)[0], 1))\n",
    "    for j in range(np.shape(test_data_set)[0]):\n",
    "        for i in range(vector_number):\n",
    "            # równanie definiujące hiperpłaszczyznę\n",
    "            # kiedy odlgłość elementu od hiperpowierzchni jest większ lub równa 1, to prowadzi on do pogorszenia klasyfikacji\n",
    "            y[j] += lambdas[i] * targets[i] * kernel[j, i]\n",
    "        y[j] += b\n",
    "    return np.sign(y)"
   ]
  },
  {
   "cell_type": "code",
   "execution_count": null,
   "metadata": {},
   "outputs": [],
   "source": [
    "# modification:\n",
    "\n",
    "train_data_set, test_data_set, train_labels, test_labels = choose_set_for_label(data_set, labels[0], labels)\n",
    "predicted_one_vs_all = np.empty((0, len(test_labels)))\n",
    "\n",
    "from sklearn.metrics import accuracy_score\n",
    "# Chodzi o to, że wcześniej odrzuciliśmy obserwacje o innej klasie niż 0 lub 1 - teraz je uwzględnimy\n",
    "for label in np.unique(labels):\n",
    "    train_data_set, test_data_set, train_labels, test_labels = choose_set_for_label(data_set, label, labels)\n",
    "    lambdas, support_vectors, support_vectors_id, b, targets, vector_number = train(train_data_set, train_labels, kernel_type='rbf')\n",
    "    predicted = classify_rbf(test_data_set, train_data_set, lambdas, targets, b, vector_number, support_vectors, support_vectors_id)\n",
    "    predicted = list(predicted.astype(int))\n",
    "    print(accuracy_score(pred_rbf, test_labels))\n",
    "    predicted_one_vs_all = np.vstack((predicted_one_vs_all, np.ndarray.flatten(pred_rbf)))\n",
    "\n",
    "predicted_bis = np.zeros((len(predicted_one_vs_all[0])))\n",
    "for label_idx, predicted_label_vs_all in enumerate(predicted_one_vs_all):\n",
    "    label = np.unique(labels)[label_idx]\n",
    "    predicted_bis[predicted_label_vs_all > -1] = label\n",
    "    \n",
    "print(\"Prediction on test data:\", predicted_bis)\n",
    "print(\"True test data:\", test_labels_all)\n",
    "print(\"Accuracy:\", accuracy_score(predicted_bis, test_labels_all))\n",
    "    \n",
    "#print(accuracy_score(predicted, test_labels))"
   ]
  },
  {
   "cell_type": "code",
   "execution_count": null,
   "metadata": {},
   "outputs": [],
   "source": []
  }
 ],
 "metadata": {
  "kernelspec": {
   "display_name": "Python 3",
   "language": "python",
   "name": "python3"
  },
  "language_info": {
   "codemirror_mode": {
    "name": "ipython",
    "version": 3
   },
   "file_extension": ".py",
   "mimetype": "text/x-python",
   "name": "python",
   "nbconvert_exporter": "python",
   "pygments_lexer": "ipython3",
   "version": "3.6.5"
  }
 },
 "nbformat": 4,
 "nbformat_minor": 2
}

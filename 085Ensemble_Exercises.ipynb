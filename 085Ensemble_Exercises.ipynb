{
 "cells": [
  {
   "cell_type": "markdown",
   "metadata": {},
   "source": [
    "# Ensemble methods. Exercises\n",
    "\n",
    "\n",
    "In this section we have only two exercise:\n",
    "\n",
    "1. Find the best three classifier in the stacking method using the classifiers from scikit-learn package.\n",
    "\n",
    "2. Build arcing arc-x4 method. "
   ]
  },
  {
   "cell_type": "code",
   "execution_count": 1,
   "metadata": {},
   "outputs": [],
   "source": [
    "%store -r data_set\n",
    "%store -r labels\n",
    "%store -r test_data_set\n",
    "%store -r test_labels\n",
    "%store -r unique_labels"
   ]
  },
  {
   "cell_type": "markdown",
   "metadata": {},
   "source": [
    "## Exercise 1: Find the best three classifier in the stacking method\n",
    "\n",
    "Please use the following classifiers:\n",
    "\n",
    "* Linear regression,\n",
    "* Nearest Neighbors,\n",
    "* Linear SVM,\n",
    "* Decision Tree,\n",
    "* Naive Bayes,\n",
    "* QDA."
   ]
  },
  {
   "cell_type": "code",
   "execution_count": 2,
   "metadata": {},
   "outputs": [],
   "source": [
    "import numpy as np\n",
    "from sklearn.metrics import accuracy_score\n",
    "\n",
    "import operator\n",
    "from itertools import combinations\n",
    "from sklearn.linear_model import LinearRegression\n",
    "from sklearn.neighbors import KNeighborsClassifier\n",
    "from sklearn.svm import SVC\n",
    "from sklearn.tree import DecisionTreeClassifier\n",
    "from sklearn.naive_bayes import GaussianNB\n",
    "from sklearn.discriminant_analysis import QuadraticDiscriminantAnalysis"
   ]
  },
  {
   "cell_type": "code",
   "execution_count": 3,
   "metadata": {},
   "outputs": [],
   "source": [
    "# Tworymy wszystkie możliwe kombnacje 3 klasyfikatorów spośród podanych\n",
    "# .fit(data_set, labels)\n",
    "lr = LinearRegression()\n",
    "dt = DecisionTreeClassifier()\n",
    "knn = KNeighborsClassifier()\n",
    "svc = SVC(gamma = 'auto')\n",
    "nb = GaussianNB()\n",
    "qda = QuadraticDiscriminantAnalysis()\n",
    "names = [lr,dt,knn,svc,nb,qda]\n",
    "\n",
    "comb_class = list(combinations(names,3))\n",
    "\n",
    "def build_classifiers(komb):\n",
    "    \n",
    "    # fill this part\n",
    "    c1 = komb[0].fit(data_set, labels)\n",
    "    c2 = komb[1].fit(data_set, labels)\n",
    "    c3 = komb[2].fit(data_set, labels)\n",
    "    \n",
    "    return c1, c2, c3"
   ]
  },
  {
   "cell_type": "code",
   "execution_count": 4,
   "metadata": {},
   "outputs": [],
   "source": [
    "def build_stacked_classifier(classifiers,k):\n",
    "    output = []\n",
    "    for classifier in classifiers:\n",
    "        output.append(classifier.predict(data_set))\n",
    "    output = np.array(output).reshape((130,3))\n",
    "    \n",
    "    # stacked classifier part:\n",
    "    dt = DecisionTreeClassifier() # działa dobrze - bo ten klasyfikator\n",
    "    knn = KNeighborsClassifier() # wszędzi accuracy = 0.0\n",
    "    svc = SVC() # działa\n",
    "    nb = GaussianNB() # wszędzie accuracy = 1.0\n",
    "    qda = QuadraticDiscriminantAnalysis() # działa dobrze\n",
    "    \n",
    "    stacked_classifier =  k # set here\n",
    "    stacked_classifier.fit(output.reshape((130,3)), labels.reshape((130,)))\n",
    "    test_set = []\n",
    "    for classifier in classifiers:\n",
    "        test_set.append(classifier.predict(test_data_set))\n",
    "    test_set = np.array(test_set).reshape((len(test_set[0]),3))\n",
    "    predicted = stacked_classifier.predict(test_set)\n",
    "    return predicted"
   ]
  },
  {
   "cell_type": "code",
   "execution_count": 5,
   "metadata": {},
   "outputs": [
    {
     "name": "stderr",
     "output_type": "stream",
     "text": [
      "/home/user/anaconda3/lib/python3.7/site-packages/sklearn/discriminant_analysis.py:692: UserWarning: Variables are collinear\n",
      "  warnings.warn(\"Variables are collinear\")\n",
      "/home/user/anaconda3/lib/python3.7/site-packages/sklearn/discriminant_analysis.py:692: UserWarning: Variables are collinear\n",
      "  warnings.warn(\"Variables are collinear\")\n",
      "/home/user/anaconda3/lib/python3.7/site-packages/sklearn/discriminant_analysis.py:692: UserWarning: Variables are collinear\n",
      "  warnings.warn(\"Variables are collinear\")\n",
      "/home/user/anaconda3/lib/python3.7/site-packages/sklearn/discriminant_analysis.py:692: UserWarning: Variables are collinear\n",
      "  warnings.warn(\"Variables are collinear\")\n"
     ]
    },
    {
     "data": {
      "text/plain": [
       "[[12, 0.95], [0, 0.0], [12, 0.85], [0, 1.0], [5, 0.95]]"
      ]
     },
     "execution_count": 5,
     "metadata": {},
     "output_type": "execute_result"
    }
   ],
   "source": [
    "stack = [DecisionTreeClassifier(),KNeighborsClassifier(),SVC(gamma = 'auto'),GaussianNB(),QuadraticDiscriminantAnalysis()]\n",
    "# w stacks\n",
    "# Nie używamy LinearRegression, ponieważ \"Classification metrics can't handle a mix of binary and continuous targets\"\n",
    "acc = []\n",
    "maxy = []\n",
    "for i in range(len(stack)):\n",
    "    acc_3comb = []\n",
    "    for comb in comb_class:\n",
    "        classifiers = build_classifiers(comb)\n",
    "        predicted = build_stacked_classifier(classifiers, stack[i])\n",
    "        accuracy = accuracy_score(test_labels, predicted)\n",
    "        acc_3comb.append(accuracy)\n",
    "        \n",
    "    index, value = max(enumerate(acc_3comb), key=operator.itemgetter(1))\n",
    "    maxy.append([index,value])\n",
    "    acc.append(acc_3comb)\n",
    "maxy"
   ]
  },
  {
   "cell_type": "code",
   "execution_count": 6,
   "metadata": {},
   "outputs": [
    {
     "data": {
      "text/plain": [
       "(DecisionTreeClassifier(class_weight=None, criterion='gini', max_depth=None,\n",
       "             max_features=None, max_leaf_nodes=None,\n",
       "             min_impurity_decrease=0.0, min_impurity_split=None,\n",
       "             min_samples_leaf=1, min_samples_split=2,\n",
       "             min_weight_fraction_leaf=0.0, presort=False, random_state=None,\n",
       "             splitter='best'),\n",
       " KNeighborsClassifier(algorithm='auto', leaf_size=30, metric='minkowski',\n",
       "            metric_params=None, n_jobs=None, n_neighbors=5, p=2,\n",
       "            weights='uniform'),\n",
       " QuadraticDiscriminantAnalysis(priors=None, reg_param=0.0,\n",
       "                store_covariance=False, store_covariances=None, tol=0.0001))"
      ]
     },
     "execution_count": 6,
     "metadata": {},
     "output_type": "execute_result"
    }
   ],
   "source": [
    "# jak widać to która 3-ka klasfikatorów w pierwszej warstwie będzie najlepsza zależy od klasyfikatora\n",
    "# użytego w drugiej warstwie\n",
    "# Jednak dla dwóch różnych klasyfikatorów wartswy drugiej (dt,svc) najlepsze prognozy daje użycie w 1. warstwie :\n",
    "comb_class[12] #(dt, knn, qda)"
   ]
  },
  {
   "cell_type": "markdown",
   "metadata": {},
   "source": [
    "## Exercise 2: \n",
    "\n",
    "Use the boosting method and change the code to fullfilt the following requirements:\n",
    "\n",
    "* the weights should be calculated as:\n",
    "$w_{n}^{(t+1)}=\\frac{1+ I(y_{n}\\neq h_{t}(x_{n})}{\\sum_{i=1}^{N}1+I(y_{n}\\neq h_{t}(x_{n})}$,\n",
    "* the prediction is done with a voting method."
   ]
  },
  {
   "cell_type": "code",
   "execution_count": 7,
   "metadata": {},
   "outputs": [],
   "source": [
    "import numpy as np\n",
    "from sklearn.tree import DecisionTreeClassifier\n",
    "\n",
    "# prepare data set\n",
    "\n",
    "def generate_data(sample_number, feature_number, label_number):\n",
    "    data_set = np.random.random_sample((sample_number, feature_number))\n",
    "    labels = np.random.choice(label_number, sample_number)\n",
    "    return data_set, labels\n",
    "\n",
    "labels = 2\n",
    "dimension = 2\n",
    "test_set_size = 1000\n",
    "train_set_size = 5000\n",
    "train_set, train_labels = generate_data(train_set_size, dimension, labels)\n",
    "test_set, test_labels = generate_data(test_set_size, dimension, labels)\n",
    "\n",
    "# init weights\n",
    "number_of_iterations = 10\n",
    "weights = np.ones((test_set_size,)) / test_set_size\n",
    "\n",
    "\n",
    "def train_model(classifier, weights):\n",
    "    return classifier.fit(X=test_set, y=test_labels, sample_weight=weights)\n",
    "\n",
    "# wydaje mi się, że ta funkcja jest konieczna\n",
    "# za względu na podany wzór:\n",
    "def calculate_accuracy_vector(predicted, labels):\n",
    "    result = []\n",
    "    for i in range(len(predicted)):\n",
    "        if predicted[i] == labels[i]:\n",
    "            result.append(0)\n",
    "        else:\n",
    "            result.append(1)\n",
    "    return result\n",
    "\n",
    "\n",
    "def calculate_error(model):\n",
    "    predicted = model.predict(test_set)\n",
    "    I=calculate_accuracy_vector(predicted, test_labels)\n",
    "    Z=np.sum(I)\n",
    "    #print(Z)\n",
    "    return (1+Z)/1.0\n",
    "\n",
    "# Poprzednio error rate był nam potrzebny do licznia alf- do czego jest teraz ?\n",
    "#def calculate_error(weights, model):\n",
    "#    predicted = model.predict(test_set)\n",
    "#    return np.dot(weights,calculate_accuracy_vector(predicted, test_labels))"
   ]
  },
  {
   "cell_type": "markdown",
   "metadata": {},
   "source": [
    "Fill the two functions below:"
   ]
  },
  {
   "cell_type": "code",
   "execution_count": 8,
   "metadata": {},
   "outputs": [],
   "source": [
    "def set_new_weights(model): #def set_new_weights(old_weights, alpha, model): tu nam zbędne stare wagi i alfy\n",
    "    # fill the code here (two lines)\n",
    "    # Zakładam, że 1 w podanym wzorze to wektor samych 1-ek\n",
    "    # 1000 = len(calculate_vector-model(...))\n",
    "    \n",
    "                                            # calculate_accuracy_vector(predicted, labels)\n",
    "    weights_numerator = calculate_accuracy_vector(model.predict(test_set), test_labels)\n",
    "    new_weights = [x+1 for x in weights_numerator]\n",
    "    return new_weights/(np.sum(new_weights))\n",
    "\n",
    "\n",
    "#def calculate_error(model):\n",
    "    # fill the code here (two lines)\n",
    "#    pass\n",
    "\n",
    "\n",
    "# PYTANIEA:\n",
    "# Czy w takim razie usunąć funkcję calculate_error(model) z poprzeniej komórki?\n",
    "# Czy wogóle nie liczyć alf - bo nie będą potrzebne przy predykcji przez głosowanie, a jeśli tak, to \n",
    "# funkcja calculate_error(model) staje się zbędna, ponieważ error_rate służył tylko do wyliczenia alf?"
   ]
  },
  {
   "cell_type": "code",
   "execution_count": 9,
   "metadata": {},
   "outputs": [
    {
     "name": "stdout",
     "output_type": "stream",
     "text": [
      "[0.00065531 0.00131062 0.00131062 0.00131062 0.00065531 0.00131062\n",
      " 0.00131062 0.00131062 0.00131062 0.00131062 0.00065531 0.00131062\n",
      " 0.00131062 0.00131062 0.00131062 0.00131062 0.00065531 0.00065531\n",
      " 0.00131062 0.00131062 0.00131062 0.00065531 0.00131062 0.00131062\n",
      " 0.00065531 0.00065531 0.00065531 0.00131062 0.00131062 0.00065531\n",
      " 0.00065531 0.00131062 0.00131062 0.00131062 0.00131062 0.00131062\n",
      " 0.00131062 0.00131062 0.00065531 0.00131062 0.00131062 0.00065531\n",
      " 0.00131062 0.00131062 0.00131062 0.00131062 0.00131062 0.00131062\n",
      " 0.00065531 0.00131062 0.00131062 0.00065531 0.00131062 0.00065531\n",
      " 0.00131062 0.00065531 0.00065531 0.00131062 0.00065531 0.00131062\n",
      " 0.00131062 0.00131062 0.00065531 0.00131062 0.00131062 0.00131062\n",
      " 0.00131062 0.00131062 0.00131062 0.00131062 0.00065531 0.00131062\n",
      " 0.00131062 0.00065531 0.00131062 0.00131062 0.00131062 0.00065531\n",
      " 0.00131062 0.00065531 0.00065531 0.00065531 0.00131062 0.00131062\n",
      " 0.00131062 0.00131062 0.00131062 0.00131062 0.00131062 0.00131062\n",
      " 0.00131062 0.00065531 0.00131062 0.00131062 0.00131062 0.00065531\n",
      " 0.00131062 0.00065531 0.00131062 0.00131062 0.00065531 0.00065531\n",
      " 0.00065531 0.00131062 0.00131062 0.00065531 0.00065531 0.00131062\n",
      " 0.00065531 0.00131062 0.00131062 0.00131062 0.00065531 0.00065531\n",
      " 0.00131062 0.00065531 0.00065531 0.00065531 0.00065531 0.00065531\n",
      " 0.00131062 0.00131062 0.00131062 0.00131062 0.00065531 0.00065531\n",
      " 0.00131062 0.00131062 0.00065531 0.00065531 0.00065531 0.00065531\n",
      " 0.00065531 0.00131062 0.00065531 0.00065531 0.00131062 0.00131062\n",
      " 0.00131062 0.00131062 0.00065531 0.00065531 0.00065531 0.00131062\n",
      " 0.00065531 0.00065531 0.00131062 0.00131062 0.00131062 0.00065531\n",
      " 0.00065531 0.00131062 0.00065531 0.00065531 0.00065531 0.00131062\n",
      " 0.00065531 0.00065531 0.00065531 0.00131062 0.00065531 0.00065531\n",
      " 0.00065531 0.00131062 0.00131062 0.00065531 0.00065531 0.00131062\n",
      " 0.00065531 0.00131062 0.00065531 0.00131062 0.00065531 0.00131062\n",
      " 0.00065531 0.00065531 0.00131062 0.00131062 0.00065531 0.00065531\n",
      " 0.00131062 0.00065531 0.00131062 0.00131062 0.00131062 0.00065531\n",
      " 0.00065531 0.00131062 0.00065531 0.00065531 0.00065531 0.00131062\n",
      " 0.00065531 0.00131062 0.00065531 0.00065531 0.00065531 0.00065531\n",
      " 0.00131062 0.00065531 0.00131062 0.00131062 0.00065531 0.00065531\n",
      " 0.00065531 0.00065531 0.00065531 0.00131062 0.00065531 0.00065531\n",
      " 0.00131062 0.00131062 0.00131062 0.00131062 0.00065531 0.00131062\n",
      " 0.00131062 0.00065531 0.00065531 0.00131062 0.00131062 0.00131062\n",
      " 0.00065531 0.00065531 0.00065531 0.00131062 0.00131062 0.00065531\n",
      " 0.00065531 0.00065531 0.00131062 0.00131062 0.00131062 0.00131062\n",
      " 0.00131062 0.00131062 0.00065531 0.00065531 0.00131062 0.00065531\n",
      " 0.00065531 0.00065531 0.00131062 0.00131062 0.00131062 0.00065531\n",
      " 0.00131062 0.00065531 0.00065531 0.00065531 0.00065531 0.00131062\n",
      " 0.00065531 0.00065531 0.00065531 0.00065531 0.00131062 0.00065531\n",
      " 0.00131062 0.00065531 0.00065531 0.00065531 0.00131062 0.00065531\n",
      " 0.00131062 0.00065531 0.00131062 0.00065531 0.00131062 0.00065531\n",
      " 0.00131062 0.00065531 0.00131062 0.00131062 0.00065531 0.00131062\n",
      " 0.00131062 0.00065531 0.00065531 0.00131062 0.00131062 0.00131062\n",
      " 0.00131062 0.00131062 0.00131062 0.00065531 0.00131062 0.00131062\n",
      " 0.00065531 0.00131062 0.00131062 0.00065531 0.00065531 0.00131062\n",
      " 0.00131062 0.00065531 0.00131062 0.00065531 0.00065531 0.00065531\n",
      " 0.00131062 0.00065531 0.00131062 0.00131062 0.00131062 0.00131062\n",
      " 0.00065531 0.00131062 0.00131062 0.00131062 0.00065531 0.00065531\n",
      " 0.00065531 0.00131062 0.00131062 0.00065531 0.00065531 0.00131062\n",
      " 0.00065531 0.00065531 0.00131062 0.00065531 0.00065531 0.00131062\n",
      " 0.00131062 0.00131062 0.00131062 0.00131062 0.00131062 0.00131062\n",
      " 0.00131062 0.00065531 0.00131062 0.00131062 0.00131062 0.00131062\n",
      " 0.00131062 0.00131062 0.00131062 0.00065531 0.00065531 0.00065531\n",
      " 0.00131062 0.00065531 0.00065531 0.00131062 0.00065531 0.00065531\n",
      " 0.00065531 0.00131062 0.00065531 0.00065531 0.00131062 0.00131062\n",
      " 0.00131062 0.00065531 0.00131062 0.00131062 0.00131062 0.00131062\n",
      " 0.00065531 0.00131062 0.00131062 0.00065531 0.00065531 0.00131062\n",
      " 0.00131062 0.00131062 0.00131062 0.00065531 0.00131062 0.00131062\n",
      " 0.00131062 0.00065531 0.00065531 0.00131062 0.00065531 0.00065531\n",
      " 0.00065531 0.00131062 0.00131062 0.00131062 0.00065531 0.00131062\n",
      " 0.00065531 0.00131062 0.00131062 0.00065531 0.00131062 0.00065531\n",
      " 0.00065531 0.00065531 0.00065531 0.00131062 0.00131062 0.00065531\n",
      " 0.00131062 0.00065531 0.00131062 0.00131062 0.00131062 0.00131062\n",
      " 0.00065531 0.00131062 0.00065531 0.00065531 0.00065531 0.00065531\n",
      " 0.00065531 0.00065531 0.00131062 0.00131062 0.00131062 0.00065531\n",
      " 0.00065531 0.00131062 0.00065531 0.00065531 0.00131062 0.00131062\n",
      " 0.00065531 0.00131062 0.00065531 0.00065531 0.00131062 0.00131062\n",
      " 0.00131062 0.00131062 0.00065531 0.00131062 0.00131062 0.00065531\n",
      " 0.00131062 0.00065531 0.00065531 0.00131062 0.00131062 0.00065531\n",
      " 0.00065531 0.00065531 0.00065531 0.00131062 0.00131062 0.00065531\n",
      " 0.00131062 0.00131062 0.00065531 0.00065531 0.00131062 0.00065531\n",
      " 0.00065531 0.00131062 0.00065531 0.00065531 0.00131062 0.00131062\n",
      " 0.00065531 0.00131062 0.00131062 0.00131062 0.00065531 0.00131062\n",
      " 0.00131062 0.00131062 0.00131062 0.00131062 0.00131062 0.00065531\n",
      " 0.00065531 0.00065531 0.00065531 0.00131062 0.00131062 0.00065531\n",
      " 0.00065531 0.00065531 0.00131062 0.00131062 0.00131062 0.00065531\n",
      " 0.00065531 0.00131062 0.00131062 0.00065531 0.00131062 0.00065531\n",
      " 0.00065531 0.00131062 0.00131062 0.00065531 0.00131062 0.00131062\n",
      " 0.00131062 0.00065531 0.00065531 0.00065531 0.00065531 0.00131062\n",
      " 0.00065531 0.00065531 0.00131062 0.00065531 0.00131062 0.00065531\n",
      " 0.00131062 0.00065531 0.00065531 0.00131062 0.00131062 0.00131062\n",
      " 0.00131062 0.00065531 0.00131062 0.00065531 0.00065531 0.00065531\n",
      " 0.00131062 0.00131062 0.00065531 0.00131062 0.00131062 0.00065531\n",
      " 0.00131062 0.00065531 0.00131062 0.00065531 0.00131062 0.00065531\n",
      " 0.00131062 0.00131062 0.00065531 0.00065531 0.00065531 0.00065531\n",
      " 0.00131062 0.00131062 0.00131062 0.00131062 0.00065531 0.00065531\n",
      " 0.00131062 0.00065531 0.00065531 0.00065531 0.00065531 0.00131062\n",
      " 0.00131062 0.00065531 0.00131062 0.00131062 0.00131062 0.00131062\n",
      " 0.00065531 0.00065531 0.00131062 0.00131062 0.00065531 0.00131062\n",
      " 0.00065531 0.00065531 0.00065531 0.00065531 0.00131062 0.00065531\n",
      " 0.00131062 0.00131062 0.00131062 0.00065531 0.00131062 0.00131062\n",
      " 0.00065531 0.00065531 0.00065531 0.00065531 0.00065531 0.00065531\n",
      " 0.00065531 0.00065531 0.00065531 0.00131062 0.00131062 0.00065531\n",
      " 0.00065531 0.00131062 0.00065531 0.00131062 0.00065531 0.00065531\n",
      " 0.00131062 0.00131062 0.00065531 0.00065531 0.00131062 0.00065531\n",
      " 0.00131062 0.00131062 0.00131062 0.00065531 0.00131062 0.00131062\n",
      " 0.00131062 0.00131062 0.00065531 0.00131062 0.00131062 0.00131062\n",
      " 0.00131062 0.00065531 0.00065531 0.00131062 0.00065531 0.00065531\n",
      " 0.00131062 0.00131062 0.00131062 0.00065531 0.00131062 0.00065531\n",
      " 0.00065531 0.00065531 0.00131062 0.00065531 0.00065531 0.00065531\n",
      " 0.00065531 0.00131062 0.00131062 0.00065531 0.00065531 0.00065531\n",
      " 0.00131062 0.00065531 0.00131062 0.00131062 0.00131062 0.00131062\n",
      " 0.00131062 0.00065531 0.00131062 0.00065531 0.00065531 0.00131062\n",
      " 0.00131062 0.00065531 0.00065531 0.00131062 0.00131062 0.00131062\n",
      " 0.00131062 0.00131062 0.00065531 0.00131062 0.00065531 0.00131062\n",
      " 0.00131062 0.00131062 0.00131062 0.00131062 0.00065531 0.00131062\n",
      " 0.00131062 0.00065531 0.00131062 0.00131062 0.00065531 0.00131062\n",
      " 0.00131062 0.00131062 0.00131062 0.00065531 0.00065531 0.00131062\n",
      " 0.00131062 0.00065531 0.00065531 0.00131062 0.00131062 0.00131062\n",
      " 0.00131062 0.00065531 0.00131062 0.00065531 0.00131062 0.00065531\n",
      " 0.00131062 0.00131062 0.00131062 0.00065531 0.00131062 0.00065531\n",
      " 0.00131062 0.00065531 0.00065531 0.00131062 0.00065531 0.00131062\n",
      " 0.00065531 0.00131062 0.00065531 0.00065531 0.00131062 0.00065531\n",
      " 0.00131062 0.00065531 0.00131062 0.00131062 0.00065531 0.00065531\n",
      " 0.00131062 0.00065531 0.00065531 0.00065531 0.00131062 0.00131062\n",
      " 0.00065531 0.00131062 0.00131062 0.00065531 0.00131062 0.00131062\n",
      " 0.00065531 0.00065531 0.00065531 0.00065531 0.00065531 0.00131062\n",
      " 0.00131062 0.00131062 0.00065531 0.00065531 0.00065531 0.00065531\n",
      " 0.00131062 0.00065531 0.00065531 0.00065531 0.00131062 0.00131062\n",
      " 0.00131062 0.00131062 0.00131062 0.00065531 0.00065531 0.00131062\n",
      " 0.00131062 0.00065531 0.00065531 0.00065531 0.00131062 0.00131062\n",
      " 0.00065531 0.00065531 0.00131062 0.00065531 0.00065531 0.00131062\n",
      " 0.00131062 0.00065531 0.00131062 0.00065531 0.00131062 0.00065531\n",
      " 0.00131062 0.00065531 0.00131062 0.00131062 0.00131062 0.00131062\n",
      " 0.00065531 0.00065531 0.00065531 0.00065531 0.00065531 0.00065531\n",
      " 0.00131062 0.00131062 0.00065531 0.00065531 0.00065531 0.00065531\n",
      " 0.00065531 0.00065531 0.00065531 0.00065531 0.00065531 0.00131062\n",
      " 0.00131062 0.00065531 0.00065531 0.00065531 0.00131062 0.00065531\n",
      " 0.00065531 0.00131062 0.00131062 0.00065531 0.00131062 0.00065531\n",
      " 0.00131062 0.00065531 0.00131062 0.00065531 0.00131062 0.00065531\n",
      " 0.00131062 0.00131062 0.00131062 0.00131062 0.00131062 0.00131062\n",
      " 0.00065531 0.00065531 0.00065531 0.00131062 0.00065531 0.00131062\n",
      " 0.00065531 0.00131062 0.00131062 0.00065531 0.00065531 0.00065531\n",
      " 0.00131062 0.00131062 0.00131062 0.00131062 0.00065531 0.00065531\n",
      " 0.00065531 0.00131062 0.00131062 0.00131062 0.00065531 0.00131062\n",
      " 0.00065531 0.00131062 0.00131062 0.00131062 0.00065531 0.00065531\n",
      " 0.00131062 0.00131062 0.00131062 0.00131062 0.00131062 0.00065531\n",
      " 0.00131062 0.00065531 0.00131062 0.00131062 0.00131062 0.00131062\n",
      " 0.00065531 0.00065531 0.00131062 0.00131062 0.00065531 0.00065531\n",
      " 0.00065531 0.00065531 0.00065531 0.00131062 0.00131062 0.00131062\n",
      " 0.00065531 0.00131062 0.00131062 0.00065531 0.00131062 0.00065531\n",
      " 0.00065531 0.00131062 0.00065531 0.00065531 0.00131062 0.00065531\n",
      " 0.00131062 0.00065531 0.00131062 0.00065531 0.00131062 0.00065531\n",
      " 0.00131062 0.00065531 0.00131062 0.00065531 0.00131062 0.00065531\n",
      " 0.00065531 0.00065531 0.00065531 0.00131062 0.00065531 0.00131062\n",
      " 0.00131062 0.00131062 0.00131062 0.00065531 0.00065531 0.00065531\n",
      " 0.00131062 0.00131062 0.00131062 0.00131062 0.00131062 0.00065531\n",
      " 0.00065531 0.00065531 0.00131062 0.00131062 0.00065531 0.00131062\n",
      " 0.00131062 0.00065531 0.00131062 0.00065531 0.00065531 0.00065531\n",
      " 0.00131062 0.00131062 0.00065531 0.00131062 0.00131062 0.00065531\n",
      " 0.00131062 0.00131062 0.00131062 0.00065531 0.00065531 0.00065531\n",
      " 0.00065531 0.00065531 0.00065531 0.00131062 0.00131062 0.00131062\n",
      " 0.00131062 0.00065531 0.00131062 0.00065531 0.00131062 0.00065531\n",
      " 0.00131062 0.00131062 0.00065531 0.00131062 0.00065531 0.00131062\n",
      " 0.00131062 0.00065531 0.00065531 0.00065531 0.00131062 0.00131062\n",
      " 0.00065531 0.00065531 0.00065531 0.00065531 0.00065531 0.00065531\n",
      " 0.00131062 0.00065531 0.00131062 0.00131062 0.00065531 0.00131062\n",
      " 0.00131062 0.00065531 0.00131062 0.00065531 0.00131062 0.00065531\n",
      " 0.00065531 0.00131062 0.00131062 0.00131062 0.00131062 0.00065531\n",
      " 0.00131062 0.00131062 0.00065531 0.00131062 0.00065531 0.00131062\n",
      " 0.00131062 0.00131062 0.00131062 0.00131062 0.00065531 0.00065531\n",
      " 0.00065531 0.00065531 0.00065531 0.00065531 0.00065531 0.00065531\n",
      " 0.00131062 0.00065531 0.00131062 0.00065531]\n"
     ]
    }
   ],
   "source": [
    "classifier = DecisionTreeClassifier(max_depth=1, random_state=1)\n",
    "classifier.fit(X=train_set, y=train_labels)\n",
    "#alphas = [] - ?\n",
    "classifiers = []\n",
    "for iteration in range(number_of_iterations):\n",
    "    \n",
    "    #error_rate = calculate_error( model) # ta linijka jest potrzebna tylko do dalszego wylicznia alf\n",
    "    #alpha = set_alpha(error_rate)\n",
    "    \n",
    "    model = train_model(classifier, weights)\n",
    "    weights = set_new_weights(model)\n",
    "    classifiers.append(model)\n",
    "\n",
    "print(weights)\n",
    "\n",
    "\n",
    "validate_x, validate_label = generate_data(1, dimension, labels)"
   ]
  },
  {
   "cell_type": "markdown",
   "metadata": {},
   "source": [
    "Train the classifier with the code below:"
   ]
  },
  {
   "cell_type": "markdown",
   "metadata": {},
   "source": [
    "Set the validation data set:"
   ]
  },
  {
   "cell_type": "code",
   "execution_count": 10,
   "metadata": {},
   "outputs": [],
   "source": [
    "validate_x, validate_label = generate_data(1, dimension, labels)"
   ]
  },
  {
   "cell_type": "markdown",
   "metadata": {},
   "source": [
    "Fill the prediction code:"
   ]
  },
  {
   "cell_type": "code",
   "execution_count": 11,
   "metadata": {},
   "outputs": [],
   "source": [
    "def get_prediction(x):\n",
    "    \"\"\"\n",
    "    the prediction is done with a voting method.\n",
    "    \"\"\"\n",
    "    # fill the code here (5-6 lines)\n",
    "    predictions = []\n",
    "    for i in range(len(classifiers)):\n",
    "        predictions.append(classifiers[i].predict(x)[0]) # dla różnie wytrnowanych klasyfikatorów - różne przewidywania\n",
    "    labels_count = {}\n",
    "    for label in np.unique(predictions):\n",
    "        labels_count[label] = predictions.count(label)\n",
    "\n",
    "    return max(labels_count.items(), key=operator.itemgetter(1))[0]"
   ]
  },
  {
   "cell_type": "markdown",
   "metadata": {},
   "source": [
    "Test it:"
   ]
  },
  {
   "cell_type": "code",
   "execution_count": 12,
   "metadata": {},
   "outputs": [
    {
     "name": "stdout",
     "output_type": "stream",
     "text": [
      "0\n"
     ]
    }
   ],
   "source": [
    "prediction = get_prediction(validate_x)\n",
    "\n",
    "print(prediction)"
   ]
  },
  {
   "cell_type": "code",
   "execution_count": null,
   "metadata": {},
   "outputs": [],
   "source": []
  }
 ],
 "metadata": {
  "kernelspec": {
   "display_name": "Python 3",
   "language": "python",
   "name": "python3"
  },
  "language_info": {
   "codemirror_mode": {
    "name": "ipython",
    "version": 3
   },
   "file_extension": ".py",
   "mimetype": "text/x-python",
   "name": "python",
   "nbconvert_exporter": "python",
   "pygments_lexer": "ipython3",
   "version": "3.7.3"
  }
 },
 "nbformat": 4,
 "nbformat_minor": 2
}
